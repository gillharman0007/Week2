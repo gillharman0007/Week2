{
 "cells": [
  {
   "cell_type": "code",
   "execution_count": 1,
   "id": "7fa32a7d-b50b-41dc-88be-811991a05afe",
   "metadata": {},
   "outputs": [
    {
     "name": "stdin",
     "output_type": "stream",
     "text": [
      "Enter the original price: $ 1000\n",
      "Enter the discount percentage:  7\n"
     ]
    },
    {
     "name": "stdout",
     "output_type": "stream",
     "text": [
      "\n",
      "Original Price: $1000.00\n",
      "Discount: 7.0%\n",
      "Final Price: $930.00\n"
     ]
    }
   ],
   "source": [
    "# discount_calculator.py\n",
    "\n",
    "# Get the original price and discount percentage from the user\n",
    "original_price = float(input(\"Enter the original price: $\"))\n",
    "discount_percentage = float(input(\"Enter the discount percentage: \"))\n",
    "\n",
    "# Calculate the discount amount and final price\n",
    "discount_amount = (original_price * discount_percentage) / 100\n",
    "final_price = original_price - discount_amount\n",
    "\n",
    "# Display the results\n",
    "print(f\"\\nOriginal Price: ${original_price:.2f}\")\n",
    "print(f\"Discount: {discount_percentage}%\")\n",
    "print(f\"Final Price: ${final_price:.2f}\")\n"
   ]
  },
  {
   "cell_type": "code",
   "execution_count": null,
   "id": "6fed0d06-0c1a-40d6-84d5-70954e82cd82",
   "metadata": {},
   "outputs": [],
   "source": []
  }
 ],
 "metadata": {
  "kernelspec": {
   "display_name": "Python 3 (ipykernel)",
   "language": "python",
   "name": "python3"
  },
  "language_info": {
   "codemirror_mode": {
    "name": "ipython",
    "version": 3
   },
   "file_extension": ".py",
   "mimetype": "text/x-python",
   "name": "python",
   "nbconvert_exporter": "python",
   "pygments_lexer": "ipython3",
   "version": "3.12.7"
  }
 },
 "nbformat": 4,
 "nbformat_minor": 5
}
