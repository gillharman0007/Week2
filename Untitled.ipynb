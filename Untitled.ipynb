{
 "cells": [
  {
   "cell_type": "code",
   "execution_count": null,
   "id": "0d625815-1980-47cc-897d-966b2394afac",
   "metadata": {},
   "outputs": [],
   "source": [
    "# Scenario 4: Age Verification\n",
    "age = int(input(\"Enter your age: \"))\n",
    "\n",
    "if age < 0:\n",
    "    print(\"Error! Age cannot be negative.\")\n",
    "elif age >= 65:\n",
    "    print(\"You are a senior citizen.\")\n",
    "elif age >= 18:\n",
    "    print(\"You are eligible to vote.\")\n",
    "else:\n",
    "    print(\"You are not eligible to vote.\")"
   ]
  },
  {
   "cell_type": "code",
   "execution_count": null,
   "id": "217bbf87-09ca-4392-af83-83fad8d96763",
   "metadata": {},
   "outputs": [],
   "source": []
  }
 ],
 "metadata": {
  "kernelspec": {
   "display_name": "Python 3 (ipykernel)",
   "language": "python",
   "name": "python3"
  },
  "language_info": {
   "codemirror_mode": {
    "name": "ipython",
    "version": 3
   },
   "file_extension": ".py",
   "mimetype": "text/x-python",
   "name": "python",
   "nbconvert_exporter": "python",
   "pygments_lexer": "ipython3",
   "version": "3.12.7"
  }
 },
 "nbformat": 4,
 "nbformat_minor": 5
}
