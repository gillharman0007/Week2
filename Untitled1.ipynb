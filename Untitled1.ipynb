{
 "cells": [
  {
   "cell_type": "code",
   "execution_count": null,
   "id": "f4558c42-fc63-4e9d-95ca-f12e031c8cb1",
   "metadata": {},
   "outputs": [
    {
     "name": "stdin",
     "output_type": "stream",
     "text": [
      "Enter password:  jhghjjhghfjhfhjf\n"
     ]
    },
    {
     "name": "stdout",
     "output_type": "stream",
     "text": [
      "Incorrect! 2 attempts left.\n"
     ]
    },
    {
     "name": "stdin",
     "output_type": "stream",
     "text": [
      "Enter password:  ikdiuhoifioehb\n"
     ]
    },
    {
     "name": "stdout",
     "output_type": "stream",
     "text": [
      "Incorrect! 1 attempts left.\n"
     ]
    },
    {
     "name": "stdin",
     "output_type": "stream",
     "text": [
      "Enter password:  kjsjchgeed\n"
     ]
    },
    {
     "name": "stdout",
     "output_type": "stream",
     "text": [
      "Incorrect! 0 attempts left.\n",
      "Too many failed attempts. Locking for 10 seconds...\n",
      "You can now try again.\n"
     ]
    }
   ],
   "source": [
    "import time\n",
    "\n",
    "# Scenario 6: Login System with 10 second lockout after 3 failed attempts\n",
    "correct_password = \"python123\"\n",
    "attempts = 3\n",
    "\n",
    "while attempts > 0:\n",
    "    password = input(\"Enter password: \")\n",
    "    if password == correct_password:\n",
    "        print(\"Access granted!\")\n",
    "        break\n",
    "    else:\n",
    "        attempts -= 1\n",
    "        print(f\"Incorrect! {attempts} attempts left.\")\n",
    "    \n",
    "    if attempts == 0:\n",
    "        print(\"Too many failed attempts. Locking for 10 seconds...\")\n",
    "        time.sleep(10)  # Lock for 10 seconds\n",
    "        print(\"You can now try again.\")\n",
    "        attempts = 3  # Reset attempts after 10 seconds\n"
   ]
  },
  {
   "cell_type": "code",
   "execution_count": null,
   "id": "bfacf5ee-aa9b-408d-86b3-2c39f6575bbc",
   "metadata": {},
   "outputs": [],
   "source": []
  }
 ],
 "metadata": {
  "kernelspec": {
   "display_name": "Python 3 (ipykernel)",
   "language": "python",
   "name": "python3"
  },
  "language_info": {
   "codemirror_mode": {
    "name": "ipython",
    "version": 3
   },
   "file_extension": ".py",
   "mimetype": "text/x-python",
   "name": "python",
   "nbconvert_exporter": "python",
   "pygments_lexer": "ipython3",
   "version": "3.12.7"
  }
 },
 "nbformat": 4,
 "nbformat_minor": 5
}
